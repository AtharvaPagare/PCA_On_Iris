{
  "nbformat": 4,
  "nbformat_minor": 0,
  "metadata": {
    "colab": {
      "name": "PCA_on_Iris_Data.ipynb",
      "version": "0.3.2",
      "provenance": [],
      "collapsed_sections": []
    },
    "kernelspec": {
      "name": "python3",
      "display_name": "Python 3"
    }
  },
  "cells": [
    {
      "metadata": {
        "id": "D8acnjMJAw9H",
        "colab_type": "code",
        "colab": {}
      },
      "cell_type": "code",
      "source": [
        "import numpy as np\n",
        "import pandas as pd"
      ],
      "execution_count": 0,
      "outputs": []
    },
    {
      "metadata": {
        "id": "FymXxJMRfPI4",
        "colab_type": "text"
      },
      "cell_type": "markdown",
      "source": [
        "The dependencies are now loaded, let's upload the files."
      ]
    },
    {
      "metadata": {
        "id": "ZeZFohyAA19z",
        "colab_type": "code",
        "outputId": "f8101a98-9531-4803-a5df-66675804d7c9",
        "colab": {
          "resources": {
            "http://localhost:8080/nbextensions/google.colab/files.js": {
              "data": "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",
              "ok": true,
              "headers": [
                [
                  "content-type",
                  "application/javascript"
                ]
              ],
              "status": 200,
              "status_text": ""
            }
          },
          "base_uri": "https://localhost:8080/",
          "height": 74
        }
      },
      "cell_type": "code",
      "source": [
        "from google.colab import files\n",
        "uploaded = files.upload()"
      ],
      "execution_count": 2,
      "outputs": [
        {
          "output_type": "display_data",
          "data": {
            "text/html": [
              "\n",
              "     <input type=\"file\" id=\"files-84908172-aa27-487e-a718-bb6d0bf54e1d\" name=\"files[]\" multiple disabled />\n",
              "     <output id=\"result-84908172-aa27-487e-a718-bb6d0bf54e1d\">\n",
              "      Upload widget is only available when the cell has been executed in the\n",
              "      current browser session. Please rerun this cell to enable.\n",
              "      </output>\n",
              "      <script src=\"/nbextensions/google.colab/files.js\"></script> "
            ],
            "text/plain": [
              "<IPython.core.display.HTML object>"
            ]
          },
          "metadata": {
            "tags": []
          }
        },
        {
          "output_type": "stream",
          "text": [
            "Saving iris_2.csv to iris_2 (1).csv\n"
          ],
          "name": "stdout"
        }
      ]
    },
    {
      "metadata": {
        "id": "u9Eej3LSBVp5",
        "colab_type": "code",
        "colab": {}
      },
      "cell_type": "code",
      "source": [
        "df = pd.read_csv('iris.csv', names = ['sepal length in cm' ,'sepal width in cm', 'petal length in cm','petal width in cm', 'class'], delimiter = ',', skiprows = [0])"
      ],
      "execution_count": 0,
      "outputs": []
    },
    {
      "metadata": {
        "id": "90Nl0shtCPxz",
        "colab_type": "code",
        "outputId": "d9ac59f9-745a-46b8-93d1-c09e7926ab2b",
        "colab": {
          "base_uri": "https://localhost:8080/",
          "height": 204
        }
      },
      "cell_type": "code",
      "source": [
        "df.head()"
      ],
      "execution_count": 4,
      "outputs": [
        {
          "output_type": "execute_result",
          "data": {
            "text/html": [
              "<div>\n",
              "<style scoped>\n",
              "    .dataframe tbody tr th:only-of-type {\n",
              "        vertical-align: middle;\n",
              "    }\n",
              "\n",
              "    .dataframe tbody tr th {\n",
              "        vertical-align: top;\n",
              "    }\n",
              "\n",
              "    .dataframe thead th {\n",
              "        text-align: right;\n",
              "    }\n",
              "</style>\n",
              "<table border=\"1\" class=\"dataframe\">\n",
              "  <thead>\n",
              "    <tr style=\"text-align: right;\">\n",
              "      <th></th>\n",
              "      <th>sepal length in cm</th>\n",
              "      <th>sepal width in cm</th>\n",
              "      <th>petal length in cm</th>\n",
              "      <th>petal width in cm</th>\n",
              "      <th>class</th>\n",
              "    </tr>\n",
              "  </thead>\n",
              "  <tbody>\n",
              "    <tr>\n",
              "      <th>0</th>\n",
              "      <td>5.1</td>\n",
              "      <td>3.5</td>\n",
              "      <td>1.4</td>\n",
              "      <td>0.2</td>\n",
              "      <td>Iris-setosa</td>\n",
              "    </tr>\n",
              "    <tr>\n",
              "      <th>1</th>\n",
              "      <td>4.9</td>\n",
              "      <td>3.0</td>\n",
              "      <td>1.4</td>\n",
              "      <td>0.2</td>\n",
              "      <td>Iris-setosa</td>\n",
              "    </tr>\n",
              "    <tr>\n",
              "      <th>2</th>\n",
              "      <td>4.7</td>\n",
              "      <td>3.2</td>\n",
              "      <td>1.3</td>\n",
              "      <td>0.2</td>\n",
              "      <td>Iris-setosa</td>\n",
              "    </tr>\n",
              "    <tr>\n",
              "      <th>3</th>\n",
              "      <td>4.6</td>\n",
              "      <td>3.1</td>\n",
              "      <td>1.5</td>\n",
              "      <td>0.2</td>\n",
              "      <td>Iris-setosa</td>\n",
              "    </tr>\n",
              "    <tr>\n",
              "      <th>4</th>\n",
              "      <td>5.0</td>\n",
              "      <td>3.6</td>\n",
              "      <td>1.4</td>\n",
              "      <td>0.2</td>\n",
              "      <td>Iris-setosa</td>\n",
              "    </tr>\n",
              "  </tbody>\n",
              "</table>\n",
              "</div>"
            ],
            "text/plain": [
              "   sepal length in cm  sepal width in cm  petal length in cm  \\\n",
              "0                 5.1                3.5                 1.4   \n",
              "1                 4.9                3.0                 1.4   \n",
              "2                 4.7                3.2                 1.3   \n",
              "3                 4.6                3.1                 1.5   \n",
              "4                 5.0                3.6                 1.4   \n",
              "\n",
              "   petal width in cm        class  \n",
              "0                0.2  Iris-setosa  \n",
              "1                0.2  Iris-setosa  \n",
              "2                0.2  Iris-setosa  \n",
              "3                0.2  Iris-setosa  \n",
              "4                0.2  Iris-setosa  "
            ]
          },
          "metadata": {
            "tags": []
          },
          "execution_count": 4
        }
      ]
    },
    {
      "metadata": {
        "id": "NKgC0BbufZB9",
        "colab_type": "text"
      },
      "cell_type": "markdown",
      "source": [
        "Shuffling the data randomly,"
      ]
    },
    {
      "metadata": {
        "id": "ExUIdVbXCfKi",
        "colab_type": "code",
        "colab": {}
      },
      "cell_type": "code",
      "source": [
        "from sklearn.utils import shuffle\n",
        "df = shuffle(df)"
      ],
      "execution_count": 0,
      "outputs": []
    },
    {
      "metadata": {
        "id": "pEENMoK0CnMv",
        "colab_type": "code",
        "outputId": "8f1ccc4d-8960-455d-c690-b2670ae5b1f0",
        "colab": {
          "base_uri": "https://localhost:8080/",
          "height": 204
        }
      },
      "cell_type": "code",
      "source": [
        "df = df.reset_index()\n",
        "df = df.drop('index', axis = 1)\n",
        "df.head()\n"
      ],
      "execution_count": 6,
      "outputs": [
        {
          "output_type": "execute_result",
          "data": {
            "text/html": [
              "<div>\n",
              "<style scoped>\n",
              "    .dataframe tbody tr th:only-of-type {\n",
              "        vertical-align: middle;\n",
              "    }\n",
              "\n",
              "    .dataframe tbody tr th {\n",
              "        vertical-align: top;\n",
              "    }\n",
              "\n",
              "    .dataframe thead th {\n",
              "        text-align: right;\n",
              "    }\n",
              "</style>\n",
              "<table border=\"1\" class=\"dataframe\">\n",
              "  <thead>\n",
              "    <tr style=\"text-align: right;\">\n",
              "      <th></th>\n",
              "      <th>sepal length in cm</th>\n",
              "      <th>sepal width in cm</th>\n",
              "      <th>petal length in cm</th>\n",
              "      <th>petal width in cm</th>\n",
              "      <th>class</th>\n",
              "    </tr>\n",
              "  </thead>\n",
              "  <tbody>\n",
              "    <tr>\n",
              "      <th>0</th>\n",
              "      <td>7.7</td>\n",
              "      <td>2.6</td>\n",
              "      <td>6.9</td>\n",
              "      <td>2.3</td>\n",
              "      <td>Iris-virginica</td>\n",
              "    </tr>\n",
              "    <tr>\n",
              "      <th>1</th>\n",
              "      <td>4.8</td>\n",
              "      <td>3.0</td>\n",
              "      <td>1.4</td>\n",
              "      <td>0.1</td>\n",
              "      <td>Iris-setosa</td>\n",
              "    </tr>\n",
              "    <tr>\n",
              "      <th>2</th>\n",
              "      <td>5.6</td>\n",
              "      <td>3.0</td>\n",
              "      <td>4.1</td>\n",
              "      <td>1.3</td>\n",
              "      <td>Iris-versicolor</td>\n",
              "    </tr>\n",
              "    <tr>\n",
              "      <th>3</th>\n",
              "      <td>6.3</td>\n",
              "      <td>3.3</td>\n",
              "      <td>4.7</td>\n",
              "      <td>1.6</td>\n",
              "      <td>Iris-versicolor</td>\n",
              "    </tr>\n",
              "    <tr>\n",
              "      <th>4</th>\n",
              "      <td>5.4</td>\n",
              "      <td>3.9</td>\n",
              "      <td>1.7</td>\n",
              "      <td>0.4</td>\n",
              "      <td>Iris-setosa</td>\n",
              "    </tr>\n",
              "  </tbody>\n",
              "</table>\n",
              "</div>"
            ],
            "text/plain": [
              "   sepal length in cm  sepal width in cm  petal length in cm  \\\n",
              "0                 7.7                2.6                 6.9   \n",
              "1                 4.8                3.0                 1.4   \n",
              "2                 5.6                3.0                 4.1   \n",
              "3                 6.3                3.3                 4.7   \n",
              "4                 5.4                3.9                 1.7   \n",
              "\n",
              "   petal width in cm            class  \n",
              "0                2.3   Iris-virginica  \n",
              "1                0.1      Iris-setosa  \n",
              "2                1.3  Iris-versicolor  \n",
              "3                1.6  Iris-versicolor  \n",
              "4                0.4      Iris-setosa  "
            ]
          },
          "metadata": {
            "tags": []
          },
          "execution_count": 6
        }
      ]
    },
    {
      "metadata": {
        "id": "vyS_jiVTgs_o",
        "colab_type": "text"
      },
      "cell_type": "markdown",
      "source": [
        "Segragating features and variables."
      ]
    },
    {
      "metadata": {
        "id": "LXifipfyC6iY",
        "colab_type": "code",
        "colab": {}
      },
      "cell_type": "code",
      "source": [
        "X = df.drop('class', axis = 1)\n",
        "y = df['class']"
      ],
      "execution_count": 0,
      "outputs": []
    },
    {
      "metadata": {
        "id": "pH3-TJwiHTfl",
        "colab_type": "code",
        "outputId": "1382835c-5e6d-4c7a-d435-ef49d83fbeaa",
        "colab": {
          "base_uri": "https://localhost:8080/",
          "height": 34
        }
      },
      "cell_type": "code",
      "source": [
        "X.shape"
      ],
      "execution_count": 8,
      "outputs": [
        {
          "output_type": "execute_result",
          "data": {
            "text/plain": [
              "(150, 4)"
            ]
          },
          "metadata": {
            "tags": []
          },
          "execution_count": 8
        }
      ]
    },
    {
      "metadata": {
        "id": "WuxTXDmCDL9a",
        "colab_type": "code",
        "outputId": "cb83f420-5571-45f9-b936-84168d9dcaf7",
        "colab": {
          "base_uri": "https://localhost:8080/",
          "height": 204
        }
      },
      "cell_type": "code",
      "source": [
        "X.head()"
      ],
      "execution_count": 9,
      "outputs": [
        {
          "output_type": "execute_result",
          "data": {
            "text/html": [
              "<div>\n",
              "<style scoped>\n",
              "    .dataframe tbody tr th:only-of-type {\n",
              "        vertical-align: middle;\n",
              "    }\n",
              "\n",
              "    .dataframe tbody tr th {\n",
              "        vertical-align: top;\n",
              "    }\n",
              "\n",
              "    .dataframe thead th {\n",
              "        text-align: right;\n",
              "    }\n",
              "</style>\n",
              "<table border=\"1\" class=\"dataframe\">\n",
              "  <thead>\n",
              "    <tr style=\"text-align: right;\">\n",
              "      <th></th>\n",
              "      <th>sepal length in cm</th>\n",
              "      <th>sepal width in cm</th>\n",
              "      <th>petal length in cm</th>\n",
              "      <th>petal width in cm</th>\n",
              "    </tr>\n",
              "  </thead>\n",
              "  <tbody>\n",
              "    <tr>\n",
              "      <th>0</th>\n",
              "      <td>7.7</td>\n",
              "      <td>2.6</td>\n",
              "      <td>6.9</td>\n",
              "      <td>2.3</td>\n",
              "    </tr>\n",
              "    <tr>\n",
              "      <th>1</th>\n",
              "      <td>4.8</td>\n",
              "      <td>3.0</td>\n",
              "      <td>1.4</td>\n",
              "      <td>0.1</td>\n",
              "    </tr>\n",
              "    <tr>\n",
              "      <th>2</th>\n",
              "      <td>5.6</td>\n",
              "      <td>3.0</td>\n",
              "      <td>4.1</td>\n",
              "      <td>1.3</td>\n",
              "    </tr>\n",
              "    <tr>\n",
              "      <th>3</th>\n",
              "      <td>6.3</td>\n",
              "      <td>3.3</td>\n",
              "      <td>4.7</td>\n",
              "      <td>1.6</td>\n",
              "    </tr>\n",
              "    <tr>\n",
              "      <th>4</th>\n",
              "      <td>5.4</td>\n",
              "      <td>3.9</td>\n",
              "      <td>1.7</td>\n",
              "      <td>0.4</td>\n",
              "    </tr>\n",
              "  </tbody>\n",
              "</table>\n",
              "</div>"
            ],
            "text/plain": [
              "   sepal length in cm  sepal width in cm  petal length in cm  \\\n",
              "0                 7.7                2.6                 6.9   \n",
              "1                 4.8                3.0                 1.4   \n",
              "2                 5.6                3.0                 4.1   \n",
              "3                 6.3                3.3                 4.7   \n",
              "4                 5.4                3.9                 1.7   \n",
              "\n",
              "   petal width in cm  \n",
              "0                2.3  \n",
              "1                0.1  \n",
              "2                1.3  \n",
              "3                1.6  \n",
              "4                0.4  "
            ]
          },
          "metadata": {
            "tags": []
          },
          "execution_count": 9
        }
      ]
    },
    {
      "metadata": {
        "id": "leZwFuP7Dm-a",
        "colab_type": "code",
        "outputId": "18f5ae1c-0638-4113-c48c-8c1ada16282b",
        "colab": {
          "base_uri": "https://localhost:8080/",
          "height": 119
        }
      },
      "cell_type": "code",
      "source": [
        "y.head()"
      ],
      "execution_count": 10,
      "outputs": [
        {
          "output_type": "execute_result",
          "data": {
            "text/plain": [
              "0     Iris-virginica\n",
              "1        Iris-setosa\n",
              "2    Iris-versicolor\n",
              "3    Iris-versicolor\n",
              "4        Iris-setosa\n",
              "Name: class, dtype: object"
            ]
          },
          "metadata": {
            "tags": []
          },
          "execution_count": 10
        }
      ]
    },
    {
      "metadata": {
        "id": "jHbtllEGiNpg",
        "colab_type": "text"
      },
      "cell_type": "markdown",
      "source": [
        "One hot encoding the output data which is categorical."
      ]
    },
    {
      "metadata": {
        "id": "geTeV2ayD0rX",
        "colab_type": "code",
        "colab": {}
      },
      "cell_type": "code",
      "source": [
        "y_1 = pd.get_dummies(y)"
      ],
      "execution_count": 0,
      "outputs": []
    },
    {
      "metadata": {
        "id": "AMQ9A3kPD4Uj",
        "colab_type": "code",
        "outputId": "29fd7a4f-e65b-4fe5-84e6-fc44c2411f64",
        "colab": {
          "base_uri": "https://localhost:8080/",
          "height": 204
        }
      },
      "cell_type": "code",
      "source": [
        "y_1.head()"
      ],
      "execution_count": 12,
      "outputs": [
        {
          "output_type": "execute_result",
          "data": {
            "text/html": [
              "<div>\n",
              "<style scoped>\n",
              "    .dataframe tbody tr th:only-of-type {\n",
              "        vertical-align: middle;\n",
              "    }\n",
              "\n",
              "    .dataframe tbody tr th {\n",
              "        vertical-align: top;\n",
              "    }\n",
              "\n",
              "    .dataframe thead th {\n",
              "        text-align: right;\n",
              "    }\n",
              "</style>\n",
              "<table border=\"1\" class=\"dataframe\">\n",
              "  <thead>\n",
              "    <tr style=\"text-align: right;\">\n",
              "      <th></th>\n",
              "      <th>Iris-setosa</th>\n",
              "      <th>Iris-versicolor</th>\n",
              "      <th>Iris-virginica</th>\n",
              "    </tr>\n",
              "  </thead>\n",
              "  <tbody>\n",
              "    <tr>\n",
              "      <th>0</th>\n",
              "      <td>0</td>\n",
              "      <td>0</td>\n",
              "      <td>1</td>\n",
              "    </tr>\n",
              "    <tr>\n",
              "      <th>1</th>\n",
              "      <td>1</td>\n",
              "      <td>0</td>\n",
              "      <td>0</td>\n",
              "    </tr>\n",
              "    <tr>\n",
              "      <th>2</th>\n",
              "      <td>0</td>\n",
              "      <td>1</td>\n",
              "      <td>0</td>\n",
              "    </tr>\n",
              "    <tr>\n",
              "      <th>3</th>\n",
              "      <td>0</td>\n",
              "      <td>1</td>\n",
              "      <td>0</td>\n",
              "    </tr>\n",
              "    <tr>\n",
              "      <th>4</th>\n",
              "      <td>1</td>\n",
              "      <td>0</td>\n",
              "      <td>0</td>\n",
              "    </tr>\n",
              "  </tbody>\n",
              "</table>\n",
              "</div>"
            ],
            "text/plain": [
              "   Iris-setosa  Iris-versicolor  Iris-virginica\n",
              "0            0                0               1\n",
              "1            1                0               0\n",
              "2            0                1               0\n",
              "3            0                1               0\n",
              "4            1                0               0"
            ]
          },
          "metadata": {
            "tags": []
          },
          "execution_count": 12
        }
      ]
    },
    {
      "metadata": {
        "id": "r9C2wXJXqsZE",
        "colab_type": "code",
        "outputId": "3cdcd152-680d-46e1-999e-9ba56b77808c",
        "colab": {
          "base_uri": "https://localhost:8080/",
          "height": 204
        }
      },
      "cell_type": "code",
      "source": [
        "from sklearn.preprocessing import StandardScaler\n",
        "scaler = StandardScaler()\n",
        "X_1 = scaler.fit_transform(X)\n",
        "X_new = pd.DataFrame(X_1, columns = X.columns)\n",
        "X_new.head()"
      ],
      "execution_count": 13,
      "outputs": [
        {
          "output_type": "execute_result",
          "data": {
            "text/html": [
              "<div>\n",
              "<style scoped>\n",
              "    .dataframe tbody tr th:only-of-type {\n",
              "        vertical-align: middle;\n",
              "    }\n",
              "\n",
              "    .dataframe tbody tr th {\n",
              "        vertical-align: top;\n",
              "    }\n",
              "\n",
              "    .dataframe thead th {\n",
              "        text-align: right;\n",
              "    }\n",
              "</style>\n",
              "<table border=\"1\" class=\"dataframe\">\n",
              "  <thead>\n",
              "    <tr style=\"text-align: right;\">\n",
              "      <th></th>\n",
              "      <th>sepal length in cm</th>\n",
              "      <th>sepal width in cm</th>\n",
              "      <th>petal length in cm</th>\n",
              "      <th>petal width in cm</th>\n",
              "    </tr>\n",
              "  </thead>\n",
              "  <tbody>\n",
              "    <tr>\n",
              "      <th>0</th>\n",
              "      <td>2.249683</td>\n",
              "      <td>-1.050569</td>\n",
              "      <td>1.786341</td>\n",
              "      <td>1.447956</td>\n",
              "    </tr>\n",
              "    <tr>\n",
              "      <th>1</th>\n",
              "      <td>-1.264185</td>\n",
              "      <td>-0.124958</td>\n",
              "      <td>-1.341272</td>\n",
              "      <td>-1.444450</td>\n",
              "    </tr>\n",
              "    <tr>\n",
              "      <th>2</th>\n",
              "      <td>-0.294842</td>\n",
              "      <td>-0.124958</td>\n",
              "      <td>0.194102</td>\n",
              "      <td>0.133226</td>\n",
              "    </tr>\n",
              "    <tr>\n",
              "      <th>3</th>\n",
              "      <td>0.553333</td>\n",
              "      <td>0.569251</td>\n",
              "      <td>0.535296</td>\n",
              "      <td>0.527645</td>\n",
              "    </tr>\n",
              "    <tr>\n",
              "      <th>4</th>\n",
              "      <td>-0.537178</td>\n",
              "      <td>1.957669</td>\n",
              "      <td>-1.170675</td>\n",
              "      <td>-1.050031</td>\n",
              "    </tr>\n",
              "  </tbody>\n",
              "</table>\n",
              "</div>"
            ],
            "text/plain": [
              "   sepal length in cm  sepal width in cm  petal length in cm  \\\n",
              "0            2.249683          -1.050569            1.786341   \n",
              "1           -1.264185          -0.124958           -1.341272   \n",
              "2           -0.294842          -0.124958            0.194102   \n",
              "3            0.553333           0.569251            0.535296   \n",
              "4           -0.537178           1.957669           -1.170675   \n",
              "\n",
              "   petal width in cm  \n",
              "0           1.447956  \n",
              "1          -1.444450  \n",
              "2           0.133226  \n",
              "3           0.527645  \n",
              "4          -1.050031  "
            ]
          },
          "metadata": {
            "tags": []
          },
          "execution_count": 13
        }
      ]
    },
    {
      "metadata": {
        "id": "ZaeFS3JCicK8",
        "colab_type": "text"
      },
      "cell_type": "markdown",
      "source": [
        "Finding the covariance matrix,"
      ]
    },
    {
      "metadata": {
        "id": "nj--5DAuD90g",
        "colab_type": "code",
        "outputId": "7bae7b31-300e-46ac-eab1-70bc2e47787a",
        "colab": {
          "base_uri": "https://localhost:8080/",
          "height": 85
        }
      },
      "cell_type": "code",
      "source": [
        "Z = X_new\n",
        "cov_mat = np.dot(Z.T, Z)\n",
        "cov_mat"
      ],
      "execution_count": 14,
      "outputs": [
        {
          "output_type": "execute_result",
          "data": {
            "text/plain": [
              "array([[150.        , -16.40538749, 130.7631236 , 122.69304501],\n",
              "       [-16.40538749, 150.        , -63.07741446, -53.48161344],\n",
              "       [130.7631236 , -63.07741446, 150.        , 144.41356456],\n",
              "       [122.69304501, -53.48161344, 144.41356456, 150.        ]])"
            ]
          },
          "metadata": {
            "tags": []
          },
          "execution_count": 14
        }
      ]
    },
    {
      "metadata": {
        "id": "hujHUnyHsVUQ",
        "colab_type": "code",
        "colab": {}
      },
      "cell_type": "code",
      "source": [
        "eigen_values, eigen_vectors = np.linalg.eig(cov_mat)"
      ],
      "execution_count": 0,
      "outputs": []
    },
    {
      "metadata": {
        "id": "PvGPygpB6-4t",
        "colab_type": "code",
        "outputId": "32f17e91-a901-4b96-f9d0-76fee330e0ed",
        "colab": {
          "base_uri": "https://localhost:8080/",
          "height": 85
        }
      },
      "cell_type": "code",
      "source": [
        "eigen_vectors"
      ],
      "execution_count": 16,
      "outputs": [
        {
          "output_type": "execute_result",
          "data": {
            "text/plain": [
              "array([[ 0.52237162, -0.37231836, -0.72101681,  0.26199559],\n",
              "       [-0.26335492, -0.92555649,  0.24203288, -0.12413481],\n",
              "       [ 0.58125401, -0.02109478,  0.14089226, -0.80115427],\n",
              "       [ 0.56561105, -0.06541577,  0.6338014 ,  0.52354627]])"
            ]
          },
          "metadata": {
            "tags": []
          },
          "execution_count": 16
        }
      ]
    },
    {
      "metadata": {
        "id": "Zrl2M2xpEOzE",
        "colab_type": "code",
        "colab": {}
      },
      "cell_type": "code",
      "source": [
        "eigen_values_col = eigen_values.reshape(eigen_values.shape[0], 1)"
      ],
      "execution_count": 0,
      "outputs": []
    },
    {
      "metadata": {
        "id": "YrvIFwFbMhoE",
        "colab_type": "text"
      },
      "cell_type": "markdown",
      "source": [
        "Finding the sparse matrix whose diagonal elements are the eigenvalues of the covariance matrix calculated above."
      ]
    },
    {
      "metadata": {
        "id": "yz5Tfe8qv1MS",
        "colab_type": "code",
        "outputId": "7cdb1155-5e9e-4d91-d79b-87155bb9ddf1",
        "colab": {
          "base_uri": "https://localhost:8080/",
          "height": 85
        }
      },
      "cell_type": "code",
      "source": [
        "from scipy import sparse\n",
        "eye = sparse.eye(eigen_values_col.shape[0]).toarray()\n",
        "eigen_values_square = np.multiply(eigen_values_col, eye)\n",
        "eigen_values_square"
      ],
      "execution_count": 18,
      "outputs": [
        {
          "output_type": "execute_result",
          "data": {
            "text/plain": [
              "array([[436.62271256,   0.        ,   0.        ,   0.        ],\n",
              "       [  0.        , 138.18313961,   0.        ,   0.        ],\n",
              "       [  0.        ,   0.        ,  22.10299175,   0.        ],\n",
              "       [  0.        ,   0.        ,   0.        ,   3.09115609]])"
            ]
          },
          "metadata": {
            "tags": []
          },
          "execution_count": 18
        }
      ]
    },
    {
      "metadata": {
        "id": "h6qfB1DHNCCY",
        "colab_type": "text"
      },
      "cell_type": "markdown",
      "source": [
        "Sorting  the columns in the ascending order of the eigenvalues."
      ]
    },
    {
      "metadata": {
        "id": "jQN9VCM3souU",
        "colab_type": "code",
        "colab": {}
      },
      "cell_type": "code",
      "source": [
        "#def col_value_mapping(mat):\n",
        "#  indices_by_cols = {}\n",
        "#  for i in range(mat.shape[1]):\n",
        "#    indices_by_cols_keys.append(np.argmax(mat[:, i]))\n",
        "#  indices_by_cols = {k : v for k, v in zip(indices_by_cols_keys, (d_col.T).tolist()[0])}\n",
        "#  return indices_by_cols\n",
        "#c = col_value_mapping(d_square)\n",
        "#from operator import itemgetter\n",
        "#list_sorted_of_d_sqaure = sorted(c.items(), key=itemgetter(1))\n",
        "#sorted_indices = [list_sorted_of_d_sqaure[i][0] for i in range(len(list_sorted_of_d_sqaure))]\n",
        "#sorted_values = [list_sorted_of_d_sqaure[i][1] for i in range(len(list_sorted_of_d_sqaure))]\n",
        "#def new_mat(sorted_indices, sorted_values):\n",
        "  #zeros = np.zeros((len(sorted_indices), len(sorted_indices)))\n",
        "  #for i in range(len(sorted_indices)):\n",
        "    #zeros[sorted_indices[i], i] = sorted_values[i]\n",
        "    #mat = zeros\n",
        "  #return mat\n",
        "#def adjust_p(p):\n",
        "  #new_p = np.zeros((len(sorted_e_values_mat), len(sorted_e_values_mat)))\n",
        "  #for i, j in zip(range(len(sorted_e_values_mat)), sorted_indices):\n",
        "    #new_p[:, i] = p[:, j]\n",
        "  #return new_p\n",
        "  #adjusted_p = adjust_p(p)"
      ],
      "execution_count": 0,
      "outputs": []
    },
    {
      "metadata": {
        "id": "aoNRZ6Wg6IID",
        "colab_type": "code",
        "colab": {}
      },
      "cell_type": "code",
      "source": [
        "#sorted_e_values_mat"
      ],
      "execution_count": 0,
      "outputs": []
    },
    {
      "metadata": {
        "id": "NmK_Eu9T7nrE",
        "colab_type": "text"
      },
      "cell_type": "markdown",
      "source": [
        "Sorting columns of 'p' according to the columns of sorted eigen value matrix."
      ]
    },
    {
      "metadata": {
        "id": "Pvsa864JNcDO",
        "colab_type": "text"
      },
      "cell_type": "markdown",
      "source": [
        "For finding the final matrix 'new_Z', the eigenvalues need to be sorted in descending order."
      ]
    },
    {
      "metadata": {
        "id": "EWJH0vsPmBnl",
        "colab_type": "text"
      },
      "cell_type": "markdown",
      "source": [
        "The 'new_Z' matrix is recombination of original features X and the values are weighted average of the original values, the weights are decided by the magnitude of eigen values."
      ]
    },
    {
      "metadata": {
        "id": "FE_dhPwvGFAA",
        "colab_type": "code",
        "outputId": "f23d57ea-026c-4f2e-9ba7-b999f2c6cddf",
        "colab": {
          "base_uri": "https://localhost:8080/",
          "height": 5117
        }
      },
      "cell_type": "code",
      "source": [
        "new_Z = np.dot(Z, eigen_vectors)\n",
        "new_Z"
      ],
      "execution_count": 21,
      "outputs": [
        {
          "output_type": "execute_result",
          "data": {
            "text/plain": [
              "array([[ 3.30914118e+00,  2.36132010e-03, -7.06933959e-01,\n",
              "         4.67561875e-02],\n",
              "       [-2.22408272e+00,  7.09118158e-01, -2.23214514e-01,\n",
              "         2.63061382e-03],\n",
              "       [ 6.70675999e-02,  2.12620735e-01,  2.94128262e-01,\n",
              "        -1.47491049e-01],\n",
              "       [ 7.48715076e-01, -7.78698611e-01,  1.48656023e-01,\n",
              "        -7.83010665e-02],\n",
              "       [-2.07053681e+00, -1.51854856e+00,  3.06842583e-02,\n",
              "         4.39877494e-03],\n",
              "       [-2.43795086e+00, -2.18539162e+00, -7.93497549e-02,\n",
              "        -5.10210291e-02],\n",
              "       [ 1.86477791e+00, -5.55381532e-01, -7.17510683e-01,\n",
              "        -2.07556768e-01],\n",
              "       [-2.21111990e+00,  1.84337811e-01, -2.18624528e-01,\n",
              "         1.68619769e-01],\n",
              "       [-2.44571134e+00, -7.45626750e-02,  3.42197636e-01,\n",
              "        -3.80965668e-02],\n",
              "       [-2.20275048e+00, -1.51375028e+00, -1.36349158e-03,\n",
              "         1.86631581e-01],\n",
              "       [ 1.17190451e+00,  3.18896617e-01,  1.30651910e-01,\n",
              "         1.25685467e-01],\n",
              "       [ 1.05669143e+00,  6.36901284e-01,  1.06753234e-01,\n",
              "        -1.83419236e-01],\n",
              "       [ 1.78600886e+00,  1.93272800e-01,  2.70002526e-01,\n",
              "         3.12072991e-02],\n",
              "       [ 1.47128019e+00, -2.53192472e-01,  3.66575092e-02,\n",
              "        -1.55435928e-01],\n",
              "       [ 2.43549739e+00, -2.46654468e-01, -7.30234006e-01,\n",
              "        -1.67936017e-02],\n",
              "       [ 9.26222368e-01, -3.03308268e-02, -5.95459889e-01,\n",
              "        -2.91024204e-02],\n",
              "       [ 1.58015525e+00, -1.07247450e+00,  9.43392608e-01,\n",
              "         3.36074229e-02],\n",
              "       [ 3.30005364e-01,  9.88900732e-01, -1.95968073e-01,\n",
              "         7.62651620e-03],\n",
              "       [-2.77416979e+00, -4.89517027e-01,  3.38836384e-01,\n",
              "         1.78537297e-02],\n",
              "       [-3.73627623e-01,  2.01793227e+00,  1.12184053e-01,\n",
              "         2.10814710e-02],\n",
              "       [ 6.62126138e-01,  2.24346071e-01,  8.73681069e-02,\n",
              "        -3.63525363e-02],\n",
              "       [ 1.15318981e+00,  7.01326114e-01,  5.31464635e-01,\n",
              "        -4.04135807e-02],\n",
              "       [-2.38125822e+00, -1.15063259e+00,  6.21019035e-02,\n",
              "        -1.54218569e-01],\n",
              "       [-1.91455639e+00, -4.30465163e-01, -4.16006875e-01,\n",
              "         1.03602240e-02],\n",
              "       [ 1.36590943e+00, -6.93948040e-01,  2.83279516e-01,\n",
              "         1.07010918e-01],\n",
              "       [ 3.84458146e-01,  5.91062469e-01,  1.26797690e-01,\n",
              "        -2.40528082e-01],\n",
              "       [ 9.59298576e-01,  2.22839447e-02,  5.28794187e-01,\n",
              "        -1.63675806e-01],\n",
              "       [ 2.82944343e-01,  8.53950717e-01,  1.34118823e-01,\n",
              "        -1.06873761e-01],\n",
              "       [ 9.23432978e-01, -1.92303705e-02,  4.17394303e-01,\n",
              "         4.74424586e-03],\n",
              "       [ 1.85355198e+00, -6.72422729e-01, -1.48203294e-02,\n",
              "         1.94875449e-01],\n",
              "       [-2.30419716e+00,  5.75367713e-01,  9.88604444e-02,\n",
              "        -6.63114622e-02],\n",
              "       [ 3.48006402e-01,  1.90621647e-01,  4.92831518e-01,\n",
              "        -1.92059489e-01],\n",
              "       [ 3.97307283e-01,  1.75816895e+00, -1.85694824e-02,\n",
              "         6.73978468e-02],\n",
              "       [ 2.75425066e-01,  1.32981591e+00,  9.34447685e-02,\n",
              "         9.94752060e-03],\n",
              "       [ 5.73883486e-01,  1.53719974e-01, -2.70039416e-01,\n",
              "        -1.94096051e-02],\n",
              "       [-4.72815133e-02,  1.05721241e+00, -3.15319195e-01,\n",
              "         6.60077099e-02],\n",
              "       [ 4.31783161e-01, -8.55136920e-01,  4.50731487e-01,\n",
              "        -1.11146169e-01],\n",
              "       [-2.04441652e+00, -6.84956426e-01, -4.79411570e-01,\n",
              "         1.95613314e-01],\n",
              "       [ 1.90311686e+00, -6.86024832e-01,  1.27799364e-01,\n",
              "         4.69214421e-01],\n",
              "       [-2.20464540e+00, -9.52457317e-01,  1.64738346e-01,\n",
              "         5.77291622e-02],\n",
              "       [-2.22678121e+00, -1.02548255e+00, -1.76645302e-01,\n",
              "        -1.64443096e-02],\n",
              "       [ 2.01615720e+00, -6.10397038e-01,  4.25914947e-01,\n",
              "         2.46764702e-01],\n",
              "       [ 1.35823985e+00, -3.28820266e-01, -2.61458074e-01,\n",
              "         6.70137909e-02],\n",
              "       [ 1.07259395e+00,  2.11757903e-01, -3.97447438e-01,\n",
              "         1.05541662e-01],\n",
              "       [ 2.31608241e+00, -2.62618387e+00, -4.99619543e-01,\n",
              "        -2.13160418e-01],\n",
              "       [ 2.30300590e+00, -4.09516695e-01, -6.54166687e-01,\n",
              "        -2.37212798e-01],\n",
              "       [ 2.36010837e-01,  7.75923784e-01, -1.47972885e-01,\n",
              "         2.44595546e-02],\n",
              "       [ 7.32481440e-01, -5.98635573e-01, -9.40668020e-02,\n",
              "         4.45376367e-03],\n",
              "       [-2.39819169e+00,  3.62390765e-01,  1.46855632e-01,\n",
              "        -4.94784238e-02],\n",
              "       [ 1.22798821e+00,  9.40914793e-01, -3.66704859e-01,\n",
              "        -8.44834785e-03],\n",
              "       [ 1.32919369e+00,  4.86760542e-01, -4.70734933e-03,\n",
              "         1.40597876e-01],\n",
              "       [ 1.19746916e+00,  8.17167742e-01, -1.63213782e-01,\n",
              "        -4.88404000e-01],\n",
              "       [ 1.59906459e+00,  4.28248836e-01,  2.33040821e-02,\n",
              "         5.89427002e-02],\n",
              "       [ 2.43737848e+00, -2.55675734e+00, -1.34200082e-01,\n",
              "        -2.75661550e-01],\n",
              "       [-2.16819365e+00, -5.52016495e-01, -2.01295482e-01,\n",
              "         9.26056927e-03],\n",
              "       [-2.08642550e+00,  6.55404729e-01, -2.27250832e-01,\n",
              "         1.03208244e-01],\n",
              "       [ 1.46406152e+00,  4.44147569e-01,  1.00411052e+00,\n",
              "         2.75022173e-01],\n",
              "       [-2.18867576e+00,  4.48629048e-01, -2.46559522e-01,\n",
              "        -3.99073035e-02],\n",
              "       [-2.33994907e+00, -1.15803343e+00,  1.37417719e-01,\n",
              "        -3.98281842e-02],\n",
              "       [ 1.15318981e+00,  7.01326114e-01,  5.31464635e-01,\n",
              "        -4.04135807e-02],\n",
              "       [ 1.86037143e+00,  1.84672394e-01,  3.53330279e-01,\n",
              "         1.00039482e-01],\n",
              "       [ 2.00173530e+00,  7.23865359e-01, -3.94070448e-01,\n",
              "        -8.49938224e-02],\n",
              "       [-1.96427929e+00, -4.97391640e-01,  3.14755610e-01,\n",
              "         1.75540206e-01],\n",
              "       [ 3.58374475e-01,  1.56009458e+00,  9.90999895e-01,\n",
              "        -1.32987438e-01],\n",
              "       [ 2.21417088e-01,  2.80847693e-01,  6.67559660e-01,\n",
              "        -2.55550383e-01],\n",
              "       [ 6.23170540e-01, -2.75426333e-02, -1.93046544e-02,\n",
              "        -1.47722637e-01],\n",
              "       [ 2.75419671e+00, -7.88432206e-01, -5.86232704e-01,\n",
              "        -1.00879674e-01],\n",
              "       [ 1.25422219e+00,  8.26200998e-02, -7.26843529e-01,\n",
              "         4.08294177e-02],\n",
              "       [-2.07535759e+00,  6.91917347e-01, -5.65590082e-02,\n",
              "         1.40294980e-01],\n",
              "       [-2.26879019e+00,  3.14878603e-01,  7.55154360e-02,\n",
              "        -1.08849380e-01],\n",
              "       [-2.16348656e+00, -1.07059558e+00, -2.64009373e-01,\n",
              "         1.53011377e-02],\n",
              "       [-3.72583830e-02,  4.32795099e-01,  1.98061449e-01,\n",
              "         1.09025121e-01],\n",
              "       [-2.34195768e+00,  1.09514636e+00,  1.53562399e-01,\n",
              "        -2.67938291e-02],\n",
              "       [ 1.37639119e+00, -1.01636193e+00,  9.31405052e-01,\n",
              "         2.41461953e-02],\n",
              "       [ 1.21534209e-01,  1.56359238e+00, -1.45241738e-01,\n",
              "        -7.87527979e-03],\n",
              "       [ 2.24356783e-01,  3.80484659e-01,  1.58769003e-01,\n",
              "        -1.32578640e-01],\n",
              "       [-2.36795045e+00,  3.18477311e-01,  5.14796236e-02,\n",
              "         2.78252250e-02],\n",
              "       [-2.19017916e+00, -5.14304308e-01, -3.86155949e-02,\n",
              "         9.19055067e-02],\n",
              "       [ 7.00472799e-01,  6.34939277e-02, -4.44767559e-01,\n",
              "         4.40812895e-02],\n",
              "       [-2.20595417e+00, -3.22378453e-02, -1.46593527e-01,\n",
              "         4.87782024e-02],\n",
              "       [ 1.34704442e+00, -4.22255966e-01,  1.80028706e-01,\n",
              "        -2.15906539e-01],\n",
              "       [ 2.80094940e+00, -8.44748194e-01, -5.47000957e-01,\n",
              "         2.96321147e-01],\n",
              "       [ 5.51633981e-01,  1.77258156e+00, -7.61380223e-01,\n",
              "         4.83536968e-02],\n",
              "       [ 1.95772766e+00, -1.00333452e+00, -4.22817052e-01,\n",
              "        -2.18459131e-01],\n",
              "       [ 1.59180930e+00, -6.77035372e-01,  6.36650721e-01,\n",
              "         1.90645618e-01],\n",
              "       [ 4.72369682e-01,  4.16608222e-01, -2.62718283e-01,\n",
              "         1.14244715e-01],\n",
              "       [ 2.20634950e+00, -5.54470105e-01, -2.05495910e-01,\n",
              "         5.93004996e-02],\n",
              "       [-2.18867576e+00,  4.48629048e-01, -2.46559522e-01,\n",
              "        -3.99073035e-02],\n",
              "       [ 1.10399365e+00, -8.63112446e-01, -6.85555108e-01,\n",
              "         3.49778613e-02],\n",
              "       [ 2.26755460e+00, -1.92144299e+00,  3.92517658e-01,\n",
              "         1.02907298e-01],\n",
              "       [ 2.52244473e-01,  5.95860746e-01,  9.47499397e-02,\n",
              "        -5.82952756e-02],\n",
              "       [ 1.53392545e-01,  7.90725456e-01, -2.98604516e-01,\n",
              "        -2.04321215e-01],\n",
              "       [ 8.90531103e-02,  1.74908548e-01,  1.31448375e-01,\n",
              "        -2.30135987e-01],\n",
              "       [-2.60820287e+00, -1.82847519e+00,  5.14195182e-02,\n",
              "        -2.31922593e-01],\n",
              "       [ 1.86789070e+00, -2.91192802e-01,  3.94004333e-01,\n",
              "        -1.67817996e-02],\n",
              "       [ 8.75890536e-01, -5.09998151e-01, -5.03505832e-01,\n",
              "         1.05141287e-01],\n",
              "       [-2.28652724e+00, -4.67991716e-01,  4.07365390e-02,\n",
              "         1.05718261e-01],\n",
              "       [ 1.84767259e+00, -8.71696662e-01,  1.00276099e+00,\n",
              "        -5.10680368e-02],\n",
              "       [ 7.38256104e-01, -4.02470382e-01,  6.16772626e-01,\n",
              "        -8.44515277e-02],\n",
              "       [-2.32737775e+00, -1.58587455e-01,  1.00165616e-01,\n",
              "        -1.34554258e-01],\n",
              "       [ 1.24210951e+00, -6.14822450e-01, -5.54846534e-01,\n",
              "         9.67335738e-03],\n",
              "       [-1.82041156e+00, -1.06750793e-01,  4.00614724e-02,\n",
              "         1.50345595e-01],\n",
              "       [-2.19229151e+00, -1.88997851e+00, -4.69480095e-01,\n",
              "         1.92782042e-01],\n",
              "       [ 4.96802558e-03,  1.02940111e+00,  5.42867049e-01,\n",
              "        -2.83487629e-02],\n",
              "       [ 1.21530321e+00,  1.63335564e+00, -4.79409914e-01,\n",
              "         2.28214500e-01],\n",
              "       [-1.89407429e+00, -1.43111071e+00, -3.70742834e-01,\n",
              "         5.95280968e-02],\n",
              "       [ 6.29381045e-01,  4.16811643e-01, -2.89962474e-01,\n",
              "        -2.73494879e-01],\n",
              "       [-2.26454173e+00, -5.05703903e-01, -1.21943348e-01,\n",
              "         2.30733235e-02],\n",
              "       [-2.38877749e+00, -6.74767397e-01,  2.14278490e-02,\n",
              "        -3.73972870e-02],\n",
              "       [ 1.52084506e+00, -2.66794575e-01,  1.79277203e-01,\n",
              "         1.18903043e-01],\n",
              "       [-4.97863388e-01,  1.84886877e+00,  2.55555250e-01,\n",
              "        -3.93891395e-02],\n",
              "       [ 7.17165066e-01,  1.85434315e-01, -6.72998424e-02,\n",
              "        -1.64555675e-01],\n",
              "       [ 9.73915114e-01,  5.71174376e-01,  8.29503781e-01,\n",
              "         2.73189478e-02],\n",
              "       [-2.17054720e+00, -2.92726955e-01, -1.69938536e-01,\n",
              "         6.24028506e-03],\n",
              "       [-2.22821750e+00, -1.62186163e-01,  1.24201428e-01,\n",
              "        -2.71228863e-01],\n",
              "       [ 2.89806444e+00, -3.97791359e-01, -8.60926842e-01,\n",
              "        -1.26074286e-01],\n",
              "       [ 2.00169097e+00, -1.04855005e+00,  6.29268888e-01,\n",
              "         2.12588357e-01],\n",
              "       [ 2.04049626e+00, -9.07398765e-01,  2.31878114e-01,\n",
              "         1.67140048e-01],\n",
              "       [ 1.01978105e+00, -6.55429631e-02,  3.38042170e-01,\n",
              "        -9.06850833e-03],\n",
              "       [-1.87170722e+00,  2.32769161e+00, -1.94528610e-01,\n",
              "         2.91692982e-01],\n",
              "       [ 4.38730118e-01,  5.88812850e-02,  2.06703491e-01,\n",
              "         3.98514578e-02],\n",
              "       [-2.13337283e+00, -1.17143211e+00,  2.52793222e-01,\n",
              "        -1.53228807e-01],\n",
              "       [-4.57012873e-01,  1.53946451e+00,  1.96126173e-01,\n",
              "         2.00883380e-01],\n",
              "       [ 1.03587821e+00,  1.39246648e+00, -6.85434303e-01,\n",
              "         1.39128619e-01],\n",
              "       [ 8.73536987e-01, -2.50708611e-01, -4.72148886e-01,\n",
              "         1.02121003e-01],\n",
              "       [ 1.11127173e+00,  2.95986102e-01, -1.82659608e-01,\n",
              "        -1.85740240e-01],\n",
              "       [-2.05206331e+00, -2.66014312e-01,  9.20929788e-02,\n",
              "         6.66010028e-02],\n",
              "       [ 1.70424071e+00, -1.01414842e+00,  2.95957877e-01,\n",
              "        -6.27403760e-02],\n",
              "       [-2.14455443e+00,  4.83942097e-01, -6.78557607e-02,\n",
              "        -4.83787691e-02],\n",
              "       [-1.24697461e-01,  2.65806268e+00, -3.98134482e-02,\n",
              "         1.61405573e-02],\n",
              "       [-2.55783442e+00,  4.53816380e-01,  3.13571838e-01,\n",
              "        -6.74111170e-02],\n",
              "       [-2.25146521e+00, -2.72237108e+00,  3.26037967e-02,\n",
              "         4.71257043e-02],\n",
              "       [ 1.56941176e-01,  1.30310327e+00, -1.68586746e-01,\n",
              "        -5.04131971e-02],\n",
              "       [-1.95702401e+00,  6.07892567e-01, -2.98591029e-01,\n",
              "         4.38372887e-02],\n",
              "       [-2.14030596e+00, -3.36640409e-01, -2.65314545e-01,\n",
              "         8.35439339e-02],\n",
              "       [ 2.04330844e+00, -8.64684880e-01,  3.35266061e-01,\n",
              "         4.42781979e-02],\n",
              "       [ 1.43868540e+00,  5.00105223e-02,  1.63390464e-01,\n",
              "        -2.35759861e-01],\n",
              "       [ 1.55849189e+00,  9.05313601e-01, -2.53819099e-02,\n",
              "         2.21322184e-01],\n",
              "       [-2.23384186e+00, -2.47613932e-01, -8.25744645e-02,\n",
              "        -2.55051623e-02],\n",
              "       [ 1.04941336e+00, -5.22197265e-01, -3.96142266e-01,\n",
              "         3.72988658e-02],\n",
              "       [ 2.72335066e-01,  1.11944152e+00,  9.81718909e-02,\n",
              "        -2.69842632e-01],\n",
              "       [ 1.25398099e+00,  1.71758384e+00, -2.64622084e-01,\n",
              "        -6.30674020e-02],\n",
              "       [-2.18867576e+00,  4.48629048e-01, -2.46559522e-01,\n",
              "        -3.99073035e-02],\n",
              "       [-2.43595220e+00,  8.82169415e-01,  2.01557587e-01,\n",
              "        -9.96079072e-03],\n",
              "       [ 1.25308651e+00,  1.16739134e+00,  5.82130271e-01,\n",
              "         9.96816830e-02],\n",
              "       [ 1.87052207e+00, -3.82821838e-01,  2.54532319e-01,\n",
              "         3.88890487e-01],\n",
              "       [-1.83193810e+00, -4.45266836e-01, -2.65375244e-01,\n",
              "         2.39140994e-01],\n",
              "       [-2.63971626e+00,  9.38281982e-01,  1.89570030e-01,\n",
              "        -1.94220183e-02],\n",
              "       [ 1.41182261e-02,  1.57339235e+00, -2.36581428e-01,\n",
              "        -3.11492615e-02],\n",
              "       [ 1.88425185e+00, -4.14332758e-01,  2.45485540e-02,\n",
              "         1.46296964e-01]])"
            ]
          },
          "metadata": {
            "tags": []
          },
          "execution_count": 21
        }
      ]
    },
    {
      "metadata": {
        "id": "TuFy55nEHBa3",
        "colab_type": "code",
        "outputId": "a8dc4d64-cdfa-4e3b-d440-27459efe6f6b",
        "colab": {
          "base_uri": "https://localhost:8080/",
          "height": 34
        }
      },
      "cell_type": "code",
      "source": [
        "new_Z.shape"
      ],
      "execution_count": 22,
      "outputs": [
        {
          "output_type": "execute_result",
          "data": {
            "text/plain": [
              "(150, 4)"
            ]
          },
          "metadata": {
            "tags": []
          },
          "execution_count": 22
        }
      ]
    },
    {
      "metadata": {
        "id": "Zv2DhHWIN1A3",
        "colab_type": "text"
      },
      "cell_type": "markdown",
      "source": [
        "Finding proportion of variance from the eigenvalue matrix."
      ]
    },
    {
      "metadata": {
        "id": "dpgTWqWvHP4w",
        "colab_type": "code",
        "outputId": "cf5829d5-1ee5-4d18-8191-5de158bf8202",
        "colab": {
          "base_uri": "https://localhost:8080/",
          "height": 34
        }
      },
      "cell_type": "code",
      "source": [
        "descending_order_eigenvalues = (eigen_values_col.T).tolist()[0]\n",
        "descending_order_eigenvalues"
      ],
      "execution_count": 23,
      "outputs": [
        {
          "output_type": "execute_result",
          "data": {
            "text/plain": [
              "[436.62271256280815, 138.18313960608376, 22.102991745764296, 3.091156085343751]"
            ]
          },
          "metadata": {
            "tags": []
          },
          "execution_count": 23
        }
      ]
    },
    {
      "metadata": {
        "id": "DkAHsZD0Ok4o",
        "colab_type": "code",
        "colab": {}
      },
      "cell_type": "code",
      "source": [
        "def proportion_of_variance():\n",
        "  proportion_of_variance = []\n",
        "  for e in range(len(descending_order_eigenvalues)):\n",
        "    proportion_of_variance.append(descending_order_eigenvalues[e] / np.sum(descending_order_eigenvalues))\n",
        "  return proportion_of_variance"
      ],
      "execution_count": 0,
      "outputs": []
    },
    {
      "metadata": {
        "id": "lO30rI7CPscM",
        "colab_type": "code",
        "outputId": "78b6a325-5a6a-41fd-93e0-d39323a556df",
        "colab": {
          "base_uri": "https://localhost:8080/",
          "height": 85
        }
      },
      "cell_type": "code",
      "source": [
        "prop_var = proportion_of_variance()\n",
        "prop_var"
      ],
      "execution_count": 25,
      "outputs": [
        {
          "output_type": "execute_result",
          "data": {
            "text/plain": [
              "[0.7277045209380137,\n",
              " 0.2303052326768063,\n",
              " 0.036838319576273836,\n",
              " 0.005151926808906253]"
            ]
          },
          "metadata": {
            "tags": []
          },
          "execution_count": 25
        }
      ]
    },
    {
      "metadata": {
        "id": "DMldsZduV2jF",
        "colab_type": "code",
        "outputId": "5b3ea0f1-b539-4a17-a7f8-78e37e4c6df7",
        "colab": {
          "base_uri": "https://localhost:8080/",
          "height": 34
        }
      },
      "cell_type": "code",
      "source": [
        "cumulative_sum = np.cumsum(prop_var)\n",
        "cumulative_sum"
      ],
      "execution_count": 26,
      "outputs": [
        {
          "output_type": "execute_result",
          "data": {
            "text/plain": [
              "array([0.72770452, 0.95800975, 0.99484807, 1.        ])"
            ]
          },
          "metadata": {
            "tags": []
          },
          "execution_count": 26
        }
      ]
    },
    {
      "metadata": {
        "id": "xf7YOmerP714",
        "colab_type": "text"
      },
      "cell_type": "markdown",
      "source": [
        "As it can be clearly observed, the first two variables constitute of vast majority of variance of the total data. Hence the dimensionality of the model can be reduced to 2 from 4."
      ]
    },
    {
      "metadata": {
        "id": "n5OFDHplPyEv",
        "colab_type": "code",
        "outputId": "e5fc9722-af6d-4ded-dc02-6cf0e830874f",
        "colab": {
          "base_uri": "https://localhost:8080/",
          "height": 592
        }
      },
      "cell_type": "code",
      "source": [
        "PC_list = ['PC1', 'PC2', 'PC3', 'PC4']\n",
        "import matplotlib.pyplot as plt\n",
        "fig, ax = plt.subplots(figsize = (10, 10))\n",
        "ax.plot(PC_list, cumulative_sum, color = 'red', marker = 'o', label = 'Cumulative sum of variance')\n",
        "ax.plot(PC_list, prop_var, marker = 'o', label = 'Variance')\n",
        "ax.legend()\n",
        "plt.show()"
      ],
      "execution_count": 27,
      "outputs": [
        {
          "output_type": "display_data",
          "data": {
            "image/png": "[encoded data removed]",
            "text/plain": [
              "<Figure size 720x720 with 1 Axes>"
            ]
          },
          "metadata": {
            "tags": []
          }
        }
      ]
    },
    {
      "metadata": {
        "id": "wSVZEtiAXGP5",
        "colab_type": "text"
      },
      "cell_type": "markdown",
      "source": [
        "Graphically, there is an 'elbow point' i.e sudden drop in variance after the second principal component. Hence, major contributors are PC1 and PC2. "
      ]
    },
    {
      "metadata": {
        "id": "j_1xEWm7lecz",
        "colab_type": "text"
      },
      "cell_type": "markdown",
      "source": [
        "Let's compute the accuracy on all the features."
      ]
    },
    {
      "metadata": {
        "id": "jOk5eT1XYHvR",
        "colab_type": "code",
        "outputId": "0c2d68b4-a0cf-4f7d-d79e-9b3bdf6892bc",
        "colab": {
          "base_uri": "https://localhost:8080/",
          "height": 34
        }
      },
      "cell_type": "code",
      "source": [
        "from sklearn.svm import SVC\n",
        "from sklearn.metrics import accuracy_score\n",
        "clf = SVC()\n",
        "clf.fit(X_new, y)\n",
        "pred = clf.predict(X_new)\n",
        "score = accuracy_score(y, pred)\n",
        "print(\"The score is: {}\".format(score))"
      ],
      "execution_count": 28,
      "outputs": [
        {
          "output_type": "stream",
          "text": [
            "The score is: 0.9733333333333334\n"
          ],
          "name": "stdout"
        }
      ]
    },
    {
      "metadata": {
        "id": "C_HcDCWom7zK",
        "colab_type": "text"
      },
      "cell_type": "markdown",
      "source": [
        "Now, let's compute ther accuracy on the first two features which are major contributes to majority of the variance."
      ]
    },
    {
      "metadata": {
        "id": "IocM00lZYyRk",
        "colab_type": "code",
        "outputId": "fb83b7e4-90d7-4357-81b9-d64774f7d434",
        "colab": {
          "base_uri": "https://localhost:8080/",
          "height": 88
        }
      },
      "cell_type": "code",
      "source": [
        "new_eigen_vectors =  eigen_vectors[:, :2]\n",
        "X_pca = np.dot(X_new, new_eigen_vectors)\n",
        "from sklearn.svm import SVC\n",
        "from sklearn.metrics import accuracy_score\n",
        "clf = SVC()\n",
        "clf.fit(X_pca, y)\n",
        "pred = clf.predict(X_pca)\n",
        "score = accuracy_score(y, pred)\n",
        "print(\"The score is: {}\".format(score))"
      ],
      "execution_count": 29,
      "outputs": [
        {
          "output_type": "stream",
          "text": [
            "The score is: 0.92\n"
          ],
          "name": "stdout"
        },
        {
          "output_type": "stream",
          "text": [
            "/usr/local/lib/python3.6/dist-packages/sklearn/svm/base.py:196: FutureWarning: The default value of gamma will change from 'auto' to 'scale' in version 0.22 to account better for unscaled features. Set gamma explicitly to 'auto' or 'scale' to avoid this warning.\n",
            "  \"avoid this warning.\", FutureWarning)\n"
          ],
          "name": "stderr"
        }
      ]
    },
    {
      "metadata": {
        "id": "Zs_LB-_PnbS8",
        "colab_type": "text"
      },
      "cell_type": "markdown",
      "source": [
        "Just to see the effect of PCA, let's consider features 3 and 4 to calculate the accuracy."
      ]
    },
    {
      "metadata": {
        "id": "xv70vjG1ciJM",
        "colab_type": "code",
        "outputId": "c28ef83b-904d-4a03-832d-4ed9a89c0424",
        "colab": {
          "base_uri": "https://localhost:8080/",
          "height": 88
        }
      },
      "cell_type": "code",
      "source": [
        "eigen_vectors_non_pca = eigen_vectors[:, 2:]\n",
        "X_non_pca = np.dot(X_new, eigen_vectors_non_pca)\n",
        "from sklearn.svm import SVC\n",
        "from sklearn.metrics import accuracy_score\n",
        "clf = SVC()\n",
        "clf.fit(X_non_pca, y)\n",
        "pred = clf.predict(X_non_pca)\n",
        "score = accuracy_score(y, pred)\n",
        "print(\"The score is: {}\".format(score))"
      ],
      "execution_count": 30,
      "outputs": [
        {
          "output_type": "stream",
          "text": [
            "The score is: 0.5133333333333333\n"
          ],
          "name": "stdout"
        },
        {
          "output_type": "stream",
          "text": [
            "/usr/local/lib/python3.6/dist-packages/sklearn/svm/base.py:196: FutureWarning: The default value of gamma will change from 'auto' to 'scale' in version 0.22 to account better for unscaled features. Set gamma explicitly to 'auto' or 'scale' to avoid this warning.\n",
            "  \"avoid this warning.\", FutureWarning)\n"
          ],
          "name": "stderr"
        }
      ]
    },
    {
      "metadata": {
        "id": "xyUkKGruaYSg",
        "colab_type": "text"
      },
      "cell_type": "markdown",
      "source": [
        "This accuracy is very low as compared to the one calculated on the basis of PCA. Thus through this experiment, we can observe that PCA can help reduce the dimensionality without a very high drop in prediction accuracy."
      ]
    }
  ]
}